{
 "cells": [
  {
   "cell_type": "code",
   "execution_count": 10,
   "metadata": {},
   "outputs": [
    {
     "name": "stdout",
     "output_type": "stream",
     "text": [
      "Metric for ===>  16.48B_vicuna-33b-v1.3\n",
      "#########################################################################\n",
      "1) Metric for corruptiom ==>  input_randomwords\n",
      "======== Metrics per task ========\n",
      "task1344_glue_entailment_classification (77.0, 0.1807)\n",
      "task1645_medical_question_pair_dataset_text_classification (50.0, 0.2551)\n",
      "task843_financial_phrasebank_classification (71.0, 0.2101)\n",
      "task512_twitter_emotion_classification (39.0, 0.2427)\n",
      "task1346_glue_cola_grammatical_correctness_classification (69.0, 0.2182)\n",
      "task379_agnews_topic_classification (84.0, 0.1371)\n",
      "task828_copa_commonsense_cause_effect (56.0, 0.2514)\n",
      "task116_com2sense_commonsense_reasoning (58.0, 0.2485)\n",
      "task1564_triviaqa_answer_generation (36.2571, 0.2151)\n",
      "task835_mathdataset_answer_generation (23.0, 0.1144)\n",
      "[(77.0, 0.1807);(50.0, 0.2551);(71.0, 0.2101);(39.0, 0.2427);(69.0, 0.2182);(84.0, 0.1371);(56.0, 0.2514);(58.0, 0.2485);(36.2571, 0.2151);(23.0, 0.1144)]\n",
      "\n"
     ]
    }
   ],
   "source": [
    "import os\n",
    "import subprocess\n",
    "\n",
    "# Specify the directory containing the JSONL files\n",
    "input_dir = \"../new_predictions/16.48B_vicuna-33b-v1.3/set400/\"\n",
    "\n",
    "# # Define the custom order of filenames\n",
    "custom_order = [\n",
    "'predicted_examples_empty.jsonl',\n",
    "'predicted_examples_only_instruction.jsonl',\n",
    "'predicted_examples_only_demostration.jsonl',\n",
    "'predicted_examples_instr_n_demo.jsonl',\n",
    "'predicted_examples_all_instr_n_demo.jsonl',\n",
    "'predicted_examples_instr_randomwords.jsonl',\n",
    "'predicted_examples_instr_frequentwords.jsonl',\n",
    "'predicted_examples_instr_50per_replaced_frequentwords.jsonl',\n",
    "'predicted_examples_instr_add_50percent_frequqentwords.jsonl',\n",
    "'predicted_examples_instr_add_100percent_frequqentwords.jsonl',\n",
    "'predicted_examples_instr_add_at_end_frequentwords.jsonl',\n",
    "'predicted_examples_wrong_labels_labelspace.jsonl',\n",
    "'predicted_examples_wrong_labels_labelspace_halfcases.jsonl',\n",
    "'predicted_examples_labels_randomwords.jsonl',\n",
    "'predicted_examples_input_ood.jsonl',\n",
    "'predicted_examples_label_empty.jsonl',\n",
    "'predicted_examples_input_empty.jsonl',\n",
    "'predicted_examples_instr_after_demo.jsonl'\n",
    "]\n",
    "\n",
    "# Create a dictionary that maps filenames to their positions in the custom order\n",
    "order_dict = {filename: index for index, filename in enumerate(custom_order)}\n",
    "\n",
    "# # Get a list of JSONL files in the directory\n",
    "jsonl_files = [file_name for file_name in os.listdir(input_dir) if file_name.endswith(\".jsonl\")]\n",
    "\n",
    "# Sort the JSONL files based on their positions in the custom order\n",
    "sorted_jsonl_files = sorted(jsonl_files, key=lambda x: order_dict.get(x, float('inf')))\n",
    "\n",
    "# Iterate over JSONL files in the directory\n",
    "print(\"Metric for ===> \", input_dir.split(\"/\")[-3])\n",
    "i=1\n",
    "for file_name in sorted_jsonl_files: #os.listdir(input_dir):\n",
    "    if file_name.endswith(\".jsonl\"):\n",
    "        # Construct the full path to the JSONL file\n",
    "        jsonl_file = os.path.join(input_dir, file_name)\n",
    "\n",
    "        corruption = file_name.split(\".\")[0].split(\"predicted_examples_\")[1]\n",
    "\n",
    "        # Run the command for the current JSONL file\n",
    "        command = f\"python ../src/evaluation/compute_metrics.py --predictions {jsonl_file} --track default --compute_per_task_metrics --compute_per_category_metrics\"\n",
    "        os.system(command)\n",
    "\n",
    "        # Use subprocess to execute the command and capture its output\n",
    "        process = subprocess.Popen(command, stdout=subprocess.PIPE, shell=True)\n",
    "        output, _ = process.communicate()\n",
    "        \n",
    "        # Print the output\n",
    "        print(\"#########################################################################\")\n",
    "        print(f\"{i}) Metric for corruptiom ==> \", corruption)\n",
    "        print(output.decode(\"utf-8\"))  # Decode and print the captured output as a string\n",
    "        i += 1\n"
   ]
  }
 ],
 "metadata": {
  "kernelspec": {
   "display_name": "venvunder",
   "language": "python",
   "name": "python3"
  },
  "language_info": {
   "codemirror_mode": {
    "name": "ipython",
    "version": 3
   },
   "file_extension": ".py",
   "mimetype": "text/x-python",
   "name": "python",
   "nbconvert_exporter": "python",
   "pygments_lexer": "ipython3",
   "version": "3.7.12"
  },
  "orig_nbformat": 4
 },
 "nbformat": 4,
 "nbformat_minor": 2
}
